{
 "cells": [
  {
   "cell_type": "code",
   "execution_count": null,
   "metadata": {},
   "outputs": [],
   "source": []
  },
  {
   "cell_type": "code",
   "execution_count": null,
   "metadata": {},
   "outputs": [],
   "source": [
    "import os\n",
    "import sys\n",
    "import torch\n",
    "import argparse\n",
    "import torch.nn as nn\n",
    "from torchview import draw_graph"
   ]
  },
  {
   "cell_type": "markdown",
   "metadata": {},
   "source": [
    "## Residual Block"
   ]
  },
  {
   "cell_type": "code",
   "execution_count": null,
   "metadata": {},
   "outputs": [],
   "source": [
    "class ResidualBlock(nn.Module):\n",
    "    def __init__(self, in_channels: int = 256):\n",
    "        super(ResidualBlock, self).__init__()\n",
    "\n",
    "        self.in_channels = in_channels\n",
    "        self.out_channels = in_channels\n",
    "\n",
    "        self.reflectionpad2d = 1\n",
    "        self.kernel_size = 3\n",
    "        self.stride_size = 1\n",
    "\n",
    "        self.layers = []\n",
    "\n",
    "        for index in range(2):\n",
    "            self.layers.append(nn.ReflectionPad2d(self.reflectionpad2d))\n",
    "\n",
    "            self.layers.append(\n",
    "                nn.Conv2d(\n",
    "                    in_channels=self.in_channels,\n",
    "                    out_channels=self.out_channels,\n",
    "                    kernel_size=self.kernel_size,\n",
    "                    stride=self.stride_size,\n",
    "                )\n",
    "            )\n",
    "\n",
    "            self.layers.append(nn.InstanceNorm2d(num_features=self.out_channels))\n",
    "\n",
    "            if index != 1:\n",
    "                self.layers.append(nn.ReLU())\n",
    "\n",
    "        self.residualBlock = nn.Sequential(*self.layers)\n",
    "\n",
    "    def forward(self, x: torch.Tensor):\n",
    "        if isinstance(x, torch.Tensor):\n",
    "            return x + self.residualBlock(x)\n",
    "        else:\n",
    "            raise ValueError(\"Input should be the tensor type\".capitalize())\n",
    "\n",
    "\n",
    "if __name__ == \"__main__\":\n",
    "    image_channels = 256\n",
    "    residual = nn.Sequential(\n",
    "        *[ResidualBlock(in_channels=image_channels) for _ in range(3)]\n",
    "    )\n",
    "\n",
    "    print(residual)"
   ]
  },
  {
   "cell_type": "code",
   "execution_count": null,
   "metadata": {},
   "outputs": [],
   "source": []
  }
 ],
 "metadata": {
  "kernelspec": {
   "display_name": "GPSG",
   "language": "python",
   "name": "python3"
  },
  "language_info": {
   "codemirror_mode": {
    "name": "ipython",
    "version": 3
   },
   "file_extension": ".py",
   "mimetype": "text/x-python",
   "name": "python",
   "nbconvert_exporter": "python",
   "pygments_lexer": "ipython3",
   "version": "3.9.18"
  }
 },
 "nbformat": 4,
 "nbformat_minor": 2
}
